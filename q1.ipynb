{
  "nbformat": 4,
  "nbformat_minor": 0,
  "metadata": {
    "colab": {
      "provenance": [],
      "gpuType": "T4",
      "authorship_tag": "ABX9TyPAjyad72txkLcBBuIMQSpZ",
      "include_colab_link": true
    },
    "kernelspec": {
      "name": "python3",
      "display_name": "Python 3"
    },
    "language_info": {
      "name": "python"
    },
    "accelerator": "GPU"
  },
  "cells": [
    {
      "cell_type": "markdown",
      "metadata": {
        "id": "view-in-github",
        "colab_type": "text"
      },
      "source": [
        "<a href=\"https://colab.research.google.com/github/VishnuAravind-RG/AIRL-Internship/blob/main/q1.ipynb\" target=\"_parent\"><img src=\"https://colab.research.google.com/assets/colab-badge.svg\" alt=\"Open In Colab\"/></a>"
      ]
    },
    {
      "cell_type": "code",
      "execution_count": 1,
      "metadata": {
        "colab": {
          "base_uri": "https://localhost:8080/",
          "height": 1000
        },
        "id": "ypB9EIzP6EHF",
        "outputId": "fe01e5b1-e2b0-44b9-e909-86574ab25cb3"
      },
      "outputs": [
        {
          "output_type": "stream",
          "name": "stdout",
          "text": [
            "Vision Transformer on CIFAR-10\n",
            "==================================================\n",
            "GPU: Tesla T4\n",
            "CUDA: 12.6\n",
            "GPU Memory: 15.8 GB\n",
            "Configuration:\n",
            "  image_size: 32\n",
            "  patch_size: 4\n",
            "  num_classes: 10\n",
            "  dim: 256\n",
            "  depth: 6\n",
            "  heads: 8\n",
            "  mlp_dim: 512\n",
            "  channels: 3\n",
            "  dropout: 0.1\n",
            "  emb_dropout: 0.1\n",
            "  batch_size: 128\n",
            "  epochs: 100\n",
            "  lr: 0.0003\n",
            "  weight_decay: 0.03\n",
            "  warmup_epochs: 10\n",
            "Loading CIFAR-10 dataset...\n"
          ]
        },
        {
          "output_type": "stream",
          "name": "stderr",
          "text": [
            "100%|██████████| 170M/170M [00:13<00:00, 12.3MB/s]\n"
          ]
        },
        {
          "output_type": "stream",
          "name": "stdout",
          "text": [
            "Training samples: 50000\n",
            "Test samples: 10000\n",
            "Initializing Vision Transformer...\n",
            "Model parameters: 3,190,538\n",
            "Starting training...\n"
          ]
        },
        {
          "output_type": "stream",
          "name": "stderr",
          "text": []
        },
        {
          "output_type": "stream",
          "name": "stdout",
          "text": [
            "Epoch 001: Loss: 2.3702 | Train Acc: 16.30% | Test Acc: 26.79% | Time: 53.05s\n",
            "New best model saved! Test Acc: 26.79%\n"
          ]
        },
        {
          "output_type": "stream",
          "name": "stderr",
          "text": []
        },
        {
          "output_type": "stream",
          "name": "stdout",
          "text": [
            "Epoch 002: Loss: 2.0792 | Train Acc: 25.13% | Test Acc: 34.89% | Time: 51.51s\n",
            "New best model saved! Test Acc: 34.89%\n"
          ]
        },
        {
          "output_type": "stream",
          "name": "stderr",
          "text": []
        },
        {
          "output_type": "stream",
          "name": "stdout",
          "text": [
            "Epoch 003: Loss: 1.9458 | Train Acc: 32.20% | Test Acc: 41.70% | Time: 52.13s\n",
            "New best model saved! Test Acc: 41.70%\n"
          ]
        },
        {
          "output_type": "stream",
          "name": "stderr",
          "text": []
        },
        {
          "output_type": "stream",
          "name": "stdout",
          "text": [
            "Epoch 004: Loss: 1.8426 | Train Acc: 37.59% | Test Acc: 45.52% | Time: 51.46s\n",
            "New best model saved! Test Acc: 45.52%\n"
          ]
        },
        {
          "output_type": "stream",
          "name": "stderr",
          "text": []
        },
        {
          "output_type": "stream",
          "name": "stdout",
          "text": [
            "Epoch 005: Loss: 1.7779 | Train Acc: 40.56% | Test Acc: 47.13% | Time: 51.58s\n",
            "New best model saved! Test Acc: 47.13%\n"
          ]
        },
        {
          "output_type": "stream",
          "name": "stderr",
          "text": []
        },
        {
          "output_type": "stream",
          "name": "stdout",
          "text": [
            "Epoch 006: Loss: 1.7213 | Train Acc: 43.58% | Test Acc: 51.56% | Time: 51.36s\n",
            "New best model saved! Test Acc: 51.56%\n"
          ]
        },
        {
          "output_type": "stream",
          "name": "stderr",
          "text": []
        },
        {
          "output_type": "stream",
          "name": "stdout",
          "text": [
            "Epoch 007: Loss: 1.6862 | Train Acc: 45.26% | Test Acc: 52.64% | Time: 52.35s\n",
            "New best model saved! Test Acc: 52.64%\n"
          ]
        },
        {
          "output_type": "stream",
          "name": "stderr",
          "text": []
        },
        {
          "output_type": "stream",
          "name": "stdout",
          "text": [
            "Epoch 008: Loss: 1.6398 | Train Acc: 47.57% | Test Acc: 54.39% | Time: 52.16s\n",
            "New best model saved! Test Acc: 54.39%\n"
          ]
        },
        {
          "output_type": "stream",
          "name": "stderr",
          "text": []
        },
        {
          "output_type": "stream",
          "name": "stdout",
          "text": [
            "Epoch 009: Loss: 1.6084 | Train Acc: 49.08% | Test Acc: 54.60% | Time: 51.85s\n",
            "New best model saved! Test Acc: 54.60%\n"
          ]
        },
        {
          "output_type": "stream",
          "name": "stderr",
          "text": []
        },
        {
          "output_type": "stream",
          "name": "stdout",
          "text": [
            "Epoch 010: Loss: 1.5680 | Train Acc: 50.89% | Test Acc: 57.08% | Time: 52.24s\n",
            "New best model saved! Test Acc: 57.08%\n"
          ]
        },
        {
          "output_type": "stream",
          "name": "stderr",
          "text": []
        },
        {
          "output_type": "stream",
          "name": "stdout",
          "text": [
            "Epoch 011: Loss: 1.5321 | Train Acc: 52.64% | Test Acc: 59.09% | Time: 52.90s\n",
            "New best model saved! Test Acc: 59.09%\n"
          ]
        },
        {
          "output_type": "stream",
          "name": "stderr",
          "text": []
        },
        {
          "output_type": "stream",
          "name": "stdout",
          "text": [
            "Epoch 012: Loss: 1.4953 | Train Acc: 54.62% | Test Acc: 60.02% | Time: 52.33s\n",
            "New best model saved! Test Acc: 60.02%\n"
          ]
        },
        {
          "output_type": "stream",
          "name": "stderr",
          "text": []
        },
        {
          "output_type": "stream",
          "name": "stdout",
          "text": [
            "Epoch 013: Loss: 1.4666 | Train Acc: 55.93% | Test Acc: 60.70% | Time: 55.11s\n",
            "New best model saved! Test Acc: 60.70%\n"
          ]
        },
        {
          "output_type": "stream",
          "name": "stderr",
          "text": []
        },
        {
          "output_type": "stream",
          "name": "stdout",
          "text": [
            "Epoch 014: Loss: 1.4314 | Train Acc: 57.48% | Test Acc: 62.21% | Time: 52.43s\n",
            "New best model saved! Test Acc: 62.21%\n"
          ]
        },
        {
          "output_type": "stream",
          "name": "stderr",
          "text": []
        },
        {
          "output_type": "stream",
          "name": "stdout",
          "text": [
            "Epoch 015: Loss: 1.4022 | Train Acc: 59.05% | Test Acc: 63.20% | Time: 51.93s\n",
            "New best model saved! Test Acc: 63.20%\n"
          ]
        },
        {
          "output_type": "stream",
          "name": "stderr",
          "text": []
        },
        {
          "output_type": "stream",
          "name": "stdout",
          "text": [
            "Epoch 016: Loss: 1.3798 | Train Acc: 59.99% | Test Acc: 64.54% | Time: 52.91s\n",
            "New best model saved! Test Acc: 64.54%\n"
          ]
        },
        {
          "output_type": "stream",
          "name": "stderr",
          "text": []
        },
        {
          "output_type": "stream",
          "name": "stdout",
          "text": [
            "Epoch 017: Loss: 1.3542 | Train Acc: 61.37% | Test Acc: 64.81% | Time: 53.07s\n",
            "New best model saved! Test Acc: 64.81%\n"
          ]
        },
        {
          "output_type": "stream",
          "name": "stderr",
          "text": []
        },
        {
          "output_type": "stream",
          "name": "stdout",
          "text": [
            "Epoch 018: Loss: 1.3379 | Train Acc: 62.10% | Test Acc: 64.15% | Time: 52.45s\n"
          ]
        },
        {
          "output_type": "stream",
          "name": "stderr",
          "text": []
        },
        {
          "output_type": "stream",
          "name": "stdout",
          "text": [
            "Epoch 019: Loss: 1.3159 | Train Acc: 63.10% | Test Acc: 67.09% | Time: 52.30s\n",
            "New best model saved! Test Acc: 67.09%\n"
          ]
        },
        {
          "output_type": "stream",
          "name": "stderr",
          "text": []
        },
        {
          "output_type": "stream",
          "name": "stdout",
          "text": [
            "Epoch 020: Loss: 1.2991 | Train Acc: 63.79% | Test Acc: 68.11% | Time: 52.50s\n",
            "New best model saved! Test Acc: 68.11%\n"
          ]
        },
        {
          "output_type": "stream",
          "name": "stderr",
          "text": []
        },
        {
          "output_type": "stream",
          "name": "stdout",
          "text": [
            "Epoch 021: Loss: 1.2797 | Train Acc: 64.71% | Test Acc: 69.12% | Time: 51.95s\n",
            "New best model saved! Test Acc: 69.12%\n"
          ]
        },
        {
          "output_type": "stream",
          "name": "stderr",
          "text": []
        },
        {
          "output_type": "stream",
          "name": "stdout",
          "text": [
            "Epoch 022: Loss: 1.2645 | Train Acc: 65.47% | Test Acc: 65.80% | Time: 51.57s\n"
          ]
        },
        {
          "output_type": "stream",
          "name": "stderr",
          "text": []
        },
        {
          "output_type": "stream",
          "name": "stdout",
          "text": [
            "Epoch 023: Loss: 1.2509 | Train Acc: 65.95% | Test Acc: 70.26% | Time: 51.36s\n",
            "New best model saved! Test Acc: 70.26%\n"
          ]
        },
        {
          "output_type": "stream",
          "name": "stderr",
          "text": []
        },
        {
          "output_type": "stream",
          "name": "stdout",
          "text": [
            "Epoch 024: Loss: 1.2339 | Train Acc: 66.86% | Test Acc: 70.72% | Time: 52.94s\n",
            "New best model saved! Test Acc: 70.72%\n"
          ]
        },
        {
          "output_type": "stream",
          "name": "stderr",
          "text": []
        },
        {
          "output_type": "stream",
          "name": "stdout",
          "text": [
            "Epoch 025: Loss: 1.2207 | Train Acc: 67.44% | Test Acc: 70.12% | Time: 51.45s\n"
          ]
        },
        {
          "output_type": "stream",
          "name": "stderr",
          "text": []
        },
        {
          "output_type": "stream",
          "name": "stdout",
          "text": [
            "Epoch 026: Loss: 1.2082 | Train Acc: 67.87% | Test Acc: 70.55% | Time: 51.02s\n"
          ]
        },
        {
          "output_type": "stream",
          "name": "stderr",
          "text": []
        },
        {
          "output_type": "stream",
          "name": "stdout",
          "text": [
            "Epoch 027: Loss: 1.1926 | Train Acc: 68.80% | Test Acc: 71.27% | Time: 50.31s\n",
            "New best model saved! Test Acc: 71.27%\n"
          ]
        },
        {
          "output_type": "stream",
          "name": "stderr",
          "text": []
        },
        {
          "output_type": "stream",
          "name": "stdout",
          "text": [
            "Epoch 028: Loss: 1.1804 | Train Acc: 69.27% | Test Acc: 71.76% | Time: 50.42s\n",
            "New best model saved! Test Acc: 71.76%\n"
          ]
        },
        {
          "output_type": "stream",
          "name": "stderr",
          "text": []
        },
        {
          "output_type": "stream",
          "name": "stdout",
          "text": [
            "Epoch 029: Loss: 1.1705 | Train Acc: 69.80% | Test Acc: 72.10% | Time: 50.88s\n",
            "New best model saved! Test Acc: 72.10%\n"
          ]
        },
        {
          "output_type": "stream",
          "name": "stderr",
          "text": []
        },
        {
          "output_type": "stream",
          "name": "stdout",
          "text": [
            "Epoch 030: Loss: 1.1586 | Train Acc: 70.24% | Test Acc: 73.03% | Time: 51.23s\n",
            "New best model saved! Test Acc: 73.03%\n"
          ]
        },
        {
          "output_type": "stream",
          "name": "stderr",
          "text": []
        },
        {
          "output_type": "stream",
          "name": "stdout",
          "text": [
            "Epoch 031: Loss: 1.1482 | Train Acc: 70.81% | Test Acc: 72.76% | Time: 50.19s\n"
          ]
        },
        {
          "output_type": "stream",
          "name": "stderr",
          "text": []
        },
        {
          "output_type": "stream",
          "name": "stdout",
          "text": [
            "Epoch 032: Loss: 1.1388 | Train Acc: 71.27% | Test Acc: 72.36% | Time: 50.35s\n"
          ]
        },
        {
          "output_type": "stream",
          "name": "stderr",
          "text": []
        },
        {
          "output_type": "stream",
          "name": "stdout",
          "text": [
            "Epoch 033: Loss: 1.1294 | Train Acc: 71.93% | Test Acc: 73.24% | Time: 50.73s\n",
            "New best model saved! Test Acc: 73.24%\n"
          ]
        },
        {
          "output_type": "stream",
          "name": "stderr",
          "text": []
        },
        {
          "output_type": "stream",
          "name": "stdout",
          "text": [
            "Epoch 034: Loss: 1.1169 | Train Acc: 72.16% | Test Acc: 73.67% | Time: 50.60s\n",
            "New best model saved! Test Acc: 73.67%\n"
          ]
        },
        {
          "output_type": "stream",
          "name": "stderr",
          "text": []
        },
        {
          "output_type": "stream",
          "name": "stdout",
          "text": [
            "Epoch 035: Loss: 1.1095 | Train Acc: 72.59% | Test Acc: 74.63% | Time: 51.41s\n",
            "New best model saved! Test Acc: 74.63%\n"
          ]
        },
        {
          "output_type": "stream",
          "name": "stderr",
          "text": []
        },
        {
          "output_type": "stream",
          "name": "stdout",
          "text": [
            "Epoch 036: Loss: 1.1003 | Train Acc: 73.04% | Test Acc: 75.19% | Time: 50.95s\n",
            "New best model saved! Test Acc: 75.19%\n"
          ]
        },
        {
          "output_type": "stream",
          "name": "stderr",
          "text": []
        },
        {
          "output_type": "stream",
          "name": "stdout",
          "text": [
            "Epoch 037: Loss: 1.0857 | Train Acc: 73.83% | Test Acc: 75.37% | Time: 50.68s\n",
            "New best model saved! Test Acc: 75.37%\n"
          ]
        },
        {
          "output_type": "stream",
          "name": "stderr",
          "text": []
        },
        {
          "output_type": "stream",
          "name": "stdout",
          "text": [
            "Epoch 038: Loss: 1.0750 | Train Acc: 74.08% | Test Acc: 75.06% | Time: 50.64s\n"
          ]
        },
        {
          "output_type": "stream",
          "name": "stderr",
          "text": []
        },
        {
          "output_type": "stream",
          "name": "stdout",
          "text": [
            "Epoch 039: Loss: 1.0698 | Train Acc: 74.40% | Test Acc: 75.97% | Time: 50.73s\n",
            "New best model saved! Test Acc: 75.97%\n"
          ]
        },
        {
          "output_type": "stream",
          "name": "stderr",
          "text": []
        },
        {
          "output_type": "stream",
          "name": "stdout",
          "text": [
            "Epoch 040: Loss: 1.0572 | Train Acc: 75.03% | Test Acc: 76.15% | Time: 50.69s\n",
            "New best model saved! Test Acc: 76.15%\n"
          ]
        },
        {
          "output_type": "stream",
          "name": "stderr",
          "text": []
        },
        {
          "output_type": "stream",
          "name": "stdout",
          "text": [
            "Epoch 041: Loss: 1.0558 | Train Acc: 74.96% | Test Acc: 75.71% | Time: 50.96s\n"
          ]
        },
        {
          "output_type": "stream",
          "name": "stderr",
          "text": []
        },
        {
          "output_type": "stream",
          "name": "stdout",
          "text": [
            "Epoch 042: Loss: 1.0413 | Train Acc: 75.72% | Test Acc: 75.68% | Time: 50.75s\n"
          ]
        },
        {
          "output_type": "stream",
          "name": "stderr",
          "text": []
        },
        {
          "output_type": "stream",
          "name": "stdout",
          "text": [
            "Epoch 043: Loss: 1.0360 | Train Acc: 75.86% | Test Acc: 76.90% | Time: 51.41s\n",
            "New best model saved! Test Acc: 76.90%\n"
          ]
        },
        {
          "output_type": "stream",
          "name": "stderr",
          "text": []
        },
        {
          "output_type": "stream",
          "name": "stdout",
          "text": [
            "Epoch 044: Loss: 1.0328 | Train Acc: 76.15% | Test Acc: 76.44% | Time: 50.90s\n"
          ]
        },
        {
          "output_type": "stream",
          "name": "stderr",
          "text": []
        },
        {
          "output_type": "stream",
          "name": "stdout",
          "text": [
            "Epoch 045: Loss: 1.0203 | Train Acc: 76.69% | Test Acc: 77.58% | Time: 50.51s\n",
            "New best model saved! Test Acc: 77.58%\n"
          ]
        },
        {
          "output_type": "stream",
          "name": "stderr",
          "text": []
        },
        {
          "output_type": "stream",
          "name": "stdout",
          "text": [
            "Epoch 046: Loss: 1.0117 | Train Acc: 76.99% | Test Acc: 78.04% | Time: 50.31s\n",
            "New best model saved! Test Acc: 78.04%\n"
          ]
        },
        {
          "output_type": "stream",
          "name": "stderr",
          "text": []
        },
        {
          "output_type": "stream",
          "name": "stdout",
          "text": [
            "Epoch 047: Loss: 0.9997 | Train Acc: 77.70% | Test Acc: 77.85% | Time: 50.86s\n"
          ]
        },
        {
          "output_type": "stream",
          "name": "stderr",
          "text": []
        },
        {
          "output_type": "stream",
          "name": "stdout",
          "text": [
            "Epoch 048: Loss: 0.9940 | Train Acc: 77.94% | Test Acc: 78.25% | Time: 50.68s\n",
            "New best model saved! Test Acc: 78.25%\n"
          ]
        },
        {
          "output_type": "stream",
          "name": "stderr",
          "text": []
        },
        {
          "output_type": "stream",
          "name": "stdout",
          "text": [
            "Epoch 049: Loss: 0.9894 | Train Acc: 77.97% | Test Acc: 78.05% | Time: 50.00s\n"
          ]
        },
        {
          "output_type": "stream",
          "name": "stderr",
          "text": []
        },
        {
          "output_type": "stream",
          "name": "stdout",
          "text": [
            "Epoch 050: Loss: 0.9809 | Train Acc: 78.49% | Test Acc: 78.85% | Time: 49.99s\n",
            "New best model saved! Test Acc: 78.85%\n"
          ]
        },
        {
          "output_type": "stream",
          "name": "stderr",
          "text": []
        },
        {
          "output_type": "stream",
          "name": "stdout",
          "text": [
            "Epoch 051: Loss: 0.9718 | Train Acc: 78.96% | Test Acc: 77.80% | Time: 51.49s\n"
          ]
        },
        {
          "output_type": "stream",
          "name": "stderr",
          "text": []
        },
        {
          "output_type": "stream",
          "name": "stdout",
          "text": [
            "Epoch 052: Loss: 0.9654 | Train Acc: 79.18% | Test Acc: 78.02% | Time: 50.68s\n"
          ]
        },
        {
          "output_type": "stream",
          "name": "stderr",
          "text": []
        },
        {
          "output_type": "stream",
          "name": "stdout",
          "text": [
            "Epoch 053: Loss: 0.9576 | Train Acc: 79.46% | Test Acc: 78.43% | Time: 51.00s\n"
          ]
        },
        {
          "output_type": "stream",
          "name": "stderr",
          "text": []
        },
        {
          "output_type": "stream",
          "name": "stdout",
          "text": [
            "Epoch 054: Loss: 0.9496 | Train Acc: 79.97% | Test Acc: 78.93% | Time: 50.61s\n",
            "New best model saved! Test Acc: 78.93%\n"
          ]
        },
        {
          "output_type": "stream",
          "name": "stderr",
          "text": []
        },
        {
          "output_type": "stream",
          "name": "stdout",
          "text": [
            "Epoch 055: Loss: 0.9442 | Train Acc: 80.15% | Test Acc: 79.45% | Time: 51.10s\n",
            "New best model saved! Test Acc: 79.45%\n"
          ]
        },
        {
          "output_type": "stream",
          "name": "stderr",
          "text": []
        },
        {
          "output_type": "stream",
          "name": "stdout",
          "text": [
            "Epoch 056: Loss: 0.9387 | Train Acc: 80.46% | Test Acc: 78.67% | Time: 50.38s\n"
          ]
        },
        {
          "output_type": "stream",
          "name": "stderr",
          "text": []
        },
        {
          "output_type": "stream",
          "name": "stdout",
          "text": [
            "Epoch 057: Loss: 0.9338 | Train Acc: 80.64% | Test Acc: 79.24% | Time: 50.40s\n"
          ]
        },
        {
          "output_type": "stream",
          "name": "stderr",
          "text": []
        },
        {
          "output_type": "stream",
          "name": "stdout",
          "text": [
            "Epoch 058: Loss: 0.9240 | Train Acc: 81.29% | Test Acc: 79.52% | Time: 50.34s\n",
            "New best model saved! Test Acc: 79.52%\n"
          ]
        },
        {
          "output_type": "stream",
          "name": "stderr",
          "text": []
        },
        {
          "output_type": "stream",
          "name": "stdout",
          "text": [
            "Epoch 059: Loss: 0.9213 | Train Acc: 81.16% | Test Acc: 79.83% | Time: 50.37s\n",
            "New best model saved! Test Acc: 79.83%\n"
          ]
        },
        {
          "output_type": "stream",
          "name": "stderr",
          "text": []
        },
        {
          "output_type": "stream",
          "name": "stdout",
          "text": [
            "Epoch 060: Loss: 0.9124 | Train Acc: 81.60% | Test Acc: 80.24% | Time: 51.07s\n",
            "New best model saved! Test Acc: 80.24%\n"
          ]
        },
        {
          "output_type": "stream",
          "name": "stderr",
          "text": []
        },
        {
          "output_type": "stream",
          "name": "stdout",
          "text": [
            "Epoch 061: Loss: 0.9079 | Train Acc: 81.91% | Test Acc: 79.83% | Time: 52.34s\n"
          ]
        },
        {
          "output_type": "stream",
          "name": "stderr",
          "text": []
        },
        {
          "output_type": "stream",
          "name": "stdout",
          "text": [
            "Epoch 062: Loss: 0.9014 | Train Acc: 82.31% | Test Acc: 79.98% | Time: 50.43s\n"
          ]
        },
        {
          "output_type": "stream",
          "name": "stderr",
          "text": []
        },
        {
          "output_type": "stream",
          "name": "stdout",
          "text": [
            "Epoch 063: Loss: 0.8918 | Train Acc: 82.78% | Test Acc: 80.46% | Time: 50.50s\n",
            "New best model saved! Test Acc: 80.46%\n"
          ]
        },
        {
          "output_type": "stream",
          "name": "stderr",
          "text": []
        },
        {
          "output_type": "stream",
          "name": "stdout",
          "text": [
            "Epoch 064: Loss: 0.8919 | Train Acc: 82.59% | Test Acc: 80.56% | Time: 50.76s\n",
            "New best model saved! Test Acc: 80.56%\n"
          ]
        },
        {
          "output_type": "stream",
          "name": "stderr",
          "text": []
        },
        {
          "output_type": "stream",
          "name": "stdout",
          "text": [
            "Epoch 065: Loss: 0.8819 | Train Acc: 83.00% | Test Acc: 80.85% | Time: 51.62s\n",
            "New best model saved! Test Acc: 80.85%\n"
          ]
        },
        {
          "output_type": "stream",
          "name": "stderr",
          "text": []
        },
        {
          "output_type": "stream",
          "name": "stdout",
          "text": [
            "Epoch 066: Loss: 0.8793 | Train Acc: 83.26% | Test Acc: 80.74% | Time: 51.51s\n"
          ]
        },
        {
          "output_type": "stream",
          "name": "stderr",
          "text": []
        },
        {
          "output_type": "stream",
          "name": "stdout",
          "text": [
            "Epoch 067: Loss: 0.8745 | Train Acc: 83.41% | Test Acc: 80.45% | Time: 51.24s\n"
          ]
        },
        {
          "output_type": "stream",
          "name": "stderr",
          "text": []
        },
        {
          "output_type": "stream",
          "name": "stdout",
          "text": [
            "Epoch 068: Loss: 0.8713 | Train Acc: 83.48% | Test Acc: 80.27% | Time: 52.34s\n"
          ]
        },
        {
          "output_type": "stream",
          "name": "stderr",
          "text": []
        },
        {
          "output_type": "stream",
          "name": "stdout",
          "text": [
            "Epoch 069: Loss: 0.8639 | Train Acc: 83.96% | Test Acc: 80.68% | Time: 51.68s\n"
          ]
        },
        {
          "output_type": "stream",
          "name": "stderr",
          "text": []
        },
        {
          "output_type": "stream",
          "name": "stdout",
          "text": [
            "Epoch 070: Loss: 0.8605 | Train Acc: 84.06% | Test Acc: 81.01% | Time: 52.14s\n",
            "New best model saved! Test Acc: 81.01%\n"
          ]
        },
        {
          "output_type": "stream",
          "name": "stderr",
          "text": []
        },
        {
          "output_type": "stream",
          "name": "stdout",
          "text": [
            "Epoch 071: Loss: 0.8545 | Train Acc: 84.34% | Test Acc: 80.90% | Time: 51.78s\n"
          ]
        },
        {
          "output_type": "stream",
          "name": "stderr",
          "text": []
        },
        {
          "output_type": "stream",
          "name": "stdout",
          "text": [
            "Epoch 072: Loss: 0.8508 | Train Acc: 84.40% | Test Acc: 80.69% | Time: 51.14s\n"
          ]
        },
        {
          "output_type": "stream",
          "name": "stderr",
          "text": []
        },
        {
          "output_type": "stream",
          "name": "stdout",
          "text": [
            "Epoch 073: Loss: 0.8457 | Train Acc: 84.69% | Test Acc: 81.07% | Time: 50.11s\n",
            "New best model saved! Test Acc: 81.07%\n"
          ]
        },
        {
          "output_type": "stream",
          "name": "stderr",
          "text": []
        },
        {
          "output_type": "stream",
          "name": "stdout",
          "text": [
            "Epoch 074: Loss: 0.8425 | Train Acc: 84.87% | Test Acc: 80.83% | Time: 50.43s\n"
          ]
        },
        {
          "output_type": "stream",
          "name": "stderr",
          "text": []
        },
        {
          "output_type": "stream",
          "name": "stdout",
          "text": [
            "Epoch 075: Loss: 0.8385 | Train Acc: 85.04% | Test Acc: 81.19% | Time: 50.46s\n",
            "New best model saved! Test Acc: 81.19%\n"
          ]
        },
        {
          "output_type": "stream",
          "name": "stderr",
          "text": []
        },
        {
          "output_type": "stream",
          "name": "stdout",
          "text": [
            "Epoch 076: Loss: 0.8349 | Train Acc: 85.31% | Test Acc: 81.23% | Time: 50.74s\n",
            "New best model saved! Test Acc: 81.23%\n"
          ]
        },
        {
          "output_type": "stream",
          "name": "stderr",
          "text": []
        },
        {
          "output_type": "stream",
          "name": "stdout",
          "text": [
            "Epoch 077: Loss: 0.8301 | Train Acc: 85.41% | Test Acc: 81.45% | Time: 50.54s\n",
            "New best model saved! Test Acc: 81.45%\n"
          ]
        },
        {
          "output_type": "stream",
          "name": "stderr",
          "text": []
        },
        {
          "output_type": "stream",
          "name": "stdout",
          "text": [
            "Epoch 078: Loss: 0.8262 | Train Acc: 85.70% | Test Acc: 81.16% | Time: 51.88s\n"
          ]
        },
        {
          "output_type": "stream",
          "name": "stderr",
          "text": []
        },
        {
          "output_type": "stream",
          "name": "stdout",
          "text": [
            "Epoch 079: Loss: 0.8201 | Train Acc: 85.86% | Test Acc: 81.39% | Time: 51.92s\n"
          ]
        },
        {
          "output_type": "stream",
          "name": "stderr",
          "text": []
        },
        {
          "output_type": "stream",
          "name": "stdout",
          "text": [
            "Epoch 080: Loss: 0.8211 | Train Acc: 85.86% | Test Acc: 81.53% | Time: 51.47s\n",
            "New best model saved! Test Acc: 81.53%\n"
          ]
        },
        {
          "output_type": "stream",
          "name": "stderr",
          "text": []
        },
        {
          "output_type": "stream",
          "name": "stdout",
          "text": [
            "Epoch 081: Loss: 0.8176 | Train Acc: 86.21% | Test Acc: 81.03% | Time: 50.36s\n"
          ]
        },
        {
          "output_type": "stream",
          "name": "stderr",
          "text": []
        },
        {
          "output_type": "stream",
          "name": "stdout",
          "text": [
            "Epoch 082: Loss: 0.8129 | Train Acc: 86.17% | Test Acc: 81.46% | Time: 51.23s\n"
          ]
        },
        {
          "output_type": "stream",
          "name": "stderr",
          "text": []
        },
        {
          "output_type": "stream",
          "name": "stdout",
          "text": [
            "Epoch 083: Loss: 0.8104 | Train Acc: 86.43% | Test Acc: 81.43% | Time: 51.52s\n"
          ]
        },
        {
          "output_type": "stream",
          "name": "stderr",
          "text": []
        },
        {
          "output_type": "stream",
          "name": "stdout",
          "text": [
            "Epoch 084: Loss: 0.8107 | Train Acc: 86.42% | Test Acc: 81.36% | Time: 50.45s\n"
          ]
        },
        {
          "output_type": "stream",
          "name": "stderr",
          "text": []
        },
        {
          "output_type": "stream",
          "name": "stdout",
          "text": [
            "Epoch 085: Loss: 0.8065 | Train Acc: 86.59% | Test Acc: 81.59% | Time: 50.66s\n",
            "New best model saved! Test Acc: 81.59%\n"
          ]
        },
        {
          "output_type": "stream",
          "name": "stderr",
          "text": []
        },
        {
          "output_type": "stream",
          "name": "stdout",
          "text": [
            "Epoch 086: Loss: 0.8063 | Train Acc: 86.46% | Test Acc: 81.43% | Time: 51.74s\n"
          ]
        },
        {
          "output_type": "stream",
          "name": "stderr",
          "text": []
        },
        {
          "output_type": "stream",
          "name": "stdout",
          "text": [
            "Epoch 087: Loss: 0.8054 | Train Acc: 86.62% | Test Acc: 81.64% | Time: 51.02s\n",
            "New best model saved! Test Acc: 81.64%\n"
          ]
        },
        {
          "output_type": "stream",
          "name": "stderr",
          "text": []
        },
        {
          "output_type": "stream",
          "name": "stdout",
          "text": [
            "Epoch 088: Loss: 0.8024 | Train Acc: 86.64% | Test Acc: 81.65% | Time: 51.95s\n",
            "New best model saved! Test Acc: 81.65%\n"
          ]
        },
        {
          "output_type": "stream",
          "name": "stderr",
          "text": []
        },
        {
          "output_type": "stream",
          "name": "stdout",
          "text": [
            "Epoch 089: Loss: 0.8026 | Train Acc: 86.82% | Test Acc: 81.69% | Time: 51.90s\n",
            "New best model saved! Test Acc: 81.69%\n"
          ]
        },
        {
          "output_type": "stream",
          "name": "stderr",
          "text": []
        },
        {
          "output_type": "stream",
          "name": "stdout",
          "text": [
            "Epoch 090: Loss: 0.7990 | Train Acc: 86.86% | Test Acc: 81.76% | Time: 50.58s\n",
            "New best model saved! Test Acc: 81.76%\n"
          ]
        },
        {
          "output_type": "stream",
          "name": "stderr",
          "text": []
        },
        {
          "output_type": "stream",
          "name": "stdout",
          "text": [
            "Epoch 091: Loss: 0.7967 | Train Acc: 87.19% | Test Acc: 81.81% | Time: 51.55s\n",
            "New best model saved! Test Acc: 81.81%\n"
          ]
        },
        {
          "output_type": "stream",
          "name": "stderr",
          "text": []
        },
        {
          "output_type": "stream",
          "name": "stdout",
          "text": [
            "Epoch 092: Loss: 0.7951 | Train Acc: 87.19% | Test Acc: 81.67% | Time: 52.06s\n"
          ]
        },
        {
          "output_type": "stream",
          "name": "stderr",
          "text": []
        },
        {
          "output_type": "stream",
          "name": "stdout",
          "text": [
            "Epoch 093: Loss: 0.7993 | Train Acc: 86.84% | Test Acc: 81.59% | Time: 51.37s\n"
          ]
        },
        {
          "output_type": "stream",
          "name": "stderr",
          "text": []
        },
        {
          "output_type": "stream",
          "name": "stdout",
          "text": [
            "Epoch 094: Loss: 0.7945 | Train Acc: 87.09% | Test Acc: 81.64% | Time: 51.70s\n"
          ]
        },
        {
          "output_type": "stream",
          "name": "stderr",
          "text": []
        },
        {
          "output_type": "stream",
          "name": "stdout",
          "text": [
            "Epoch 095: Loss: 0.7928 | Train Acc: 87.25% | Test Acc: 81.67% | Time: 51.73s\n"
          ]
        },
        {
          "output_type": "stream",
          "name": "stderr",
          "text": []
        },
        {
          "output_type": "stream",
          "name": "stdout",
          "text": [
            "Epoch 096: Loss: 0.7937 | Train Acc: 87.10% | Test Acc: 81.72% | Time: 51.42s\n"
          ]
        },
        {
          "output_type": "stream",
          "name": "stderr",
          "text": []
        },
        {
          "output_type": "stream",
          "name": "stdout",
          "text": [
            "Epoch 097: Loss: 0.7953 | Train Acc: 87.04% | Test Acc: 81.64% | Time: 50.60s\n"
          ]
        },
        {
          "output_type": "stream",
          "name": "stderr",
          "text": []
        },
        {
          "output_type": "stream",
          "name": "stdout",
          "text": [
            "Epoch 098: Loss: 0.7901 | Train Acc: 87.29% | Test Acc: 81.74% | Time: 51.46s\n"
          ]
        },
        {
          "output_type": "stream",
          "name": "stderr",
          "text": []
        },
        {
          "output_type": "stream",
          "name": "stdout",
          "text": [
            "Epoch 099: Loss: 0.7933 | Train Acc: 87.18% | Test Acc: 81.69% | Time: 50.59s\n"
          ]
        },
        {
          "output_type": "stream",
          "name": "stderr",
          "text": []
        },
        {
          "output_type": "stream",
          "name": "stdout",
          "text": [
            "Epoch 100: Loss: 0.7905 | Train Acc: 87.37% | Test Acc: 81.69% | Time: 51.43s\n",
            "Best Test Accuracy: 81.81%\n"
          ]
        },
        {
          "output_type": "stream",
          "name": "stderr",
          "text": []
        },
        {
          "output_type": "stream",
          "name": "stdout",
          "text": [
            "Final Test Accuracy: 81.81%\n"
          ]
        },
        {
          "output_type": "display_data",
          "data": {
            "text/plain": [
              "<Figure size 1500x500 with 3 Axes>"
            ],
            "image/png": "[encoded data removed]"
          },
          "metadata": {}
        },
        {
          "output_type": "stream",
          "name": "stdout",
          "text": [
            "Training completed successfully!\n",
            "Best Accuracy: 81.81%\n",
            "Final Accuracy: 81.81%\n",
            "Model Size: 3,190,538 parameters\n"
          ]
        }
      ],
      "source": [
        "import torch\n",
        "import torch.nn as nn\n",
        "import torch.optim as optim\n",
        "import torch.nn.functional as F\n",
        "from torch.utils.data import DataLoader\n",
        "import torchvision\n",
        "import torchvision.transforms as transforms\n",
        "import numpy as np\n",
        "import matplotlib.pyplot as plt\n",
        "from tqdm import tqdm\n",
        "import time\n",
        "import os\n",
        "\n",
        "def setup_gpu():\n",
        "    if torch.cuda.is_available():\n",
        "        device = torch.device(\"cuda\")\n",
        "        print(f\"GPU: {torch.cuda.get_device_name()}\")\n",
        "        print(f\"CUDA: {torch.version.cuda}\")\n",
        "        memory_gb = torch.cuda.get_device_properties(0).total_memory / 1e9\n",
        "        print(f\"GPU Memory: {memory_gb:.1f} GB\")\n",
        "\n",
        "        test_tensor = torch.randn(1000, 1000).cuda()\n",
        "        _ = test_tensor @ test_tensor\n",
        "        del test_tensor\n",
        "        torch.cuda.empty_cache()\n",
        "\n",
        "    else:\n",
        "        device = torch.device(\"cpu\")\n",
        "        print(\"No GPU detected - enable T4 GPU in Colab\")\n",
        "        raise SystemExit(\"GPU required\")\n",
        "\n",
        "    return device\n",
        "\n",
        "class PatchEmbedding(nn.Module):\n",
        "    def __init__(self, image_size=32, patch_size=4, channels=3, dim=256):\n",
        "        super().__init__()\n",
        "        self.num_patches = (image_size // patch_size) ** 2\n",
        "        self.proj = nn.Conv2d(channels, dim, kernel_size=patch_size, stride=patch_size)\n",
        "        self.cls_token = nn.Parameter(torch.randn(1, 1, dim))\n",
        "        self.pos_embedding = nn.Parameter(torch.randn(1, self.num_patches + 1, dim))\n",
        "        self.dropout = nn.Dropout(0.1)\n",
        "\n",
        "    def forward(self, x):\n",
        "        B, C, H, W = x.shape\n",
        "        x = self.proj(x)\n",
        "        x = x.flatten(2).transpose(1, 2)\n",
        "\n",
        "        cls_tokens = self.cls_token.expand(B, -1, -1)\n",
        "        x = torch.cat((cls_tokens, x), dim=1)\n",
        "        x += self.pos_embedding\n",
        "        return self.dropout(x)\n",
        "\n",
        "class MultiHeadAttention(nn.Module):\n",
        "    def __init__(self, dim, heads=8, dropout=0.1):\n",
        "        super().__init__()\n",
        "        self.heads = heads\n",
        "        self.scale = (dim // heads) ** -0.5\n",
        "        self.to_qkv = nn.Linear(dim, dim * 3, bias=False)\n",
        "        self.attn_drop = nn.Dropout(dropout)\n",
        "        self.proj = nn.Linear(dim, dim)\n",
        "        self.proj_drop = nn.Dropout(dropout)\n",
        "\n",
        "    def forward(self, x):\n",
        "        B, N, D = x.shape\n",
        "        qkv = self.to_qkv(x).reshape(B, N, 3, self.heads, D // self.heads).permute(2, 0, 3, 1, 4)\n",
        "        q, k, v = qkv[0], qkv[1], qkv[2]\n",
        "\n",
        "        attn = (q @ k.transpose(-2, -1)) * self.scale\n",
        "        attn = attn.softmax(dim=-1)\n",
        "        attn = self.attn_drop(attn)\n",
        "\n",
        "        x = (attn @ v).transpose(1, 2).reshape(B, N, D)\n",
        "        x = self.proj(x)\n",
        "        return self.proj_drop(x)\n",
        "\n",
        "class MLP(nn.Module):\n",
        "    def __init__(self, dim, hidden_dim, dropout=0.1):\n",
        "        super().__init__()\n",
        "        self.net = nn.Sequential(\n",
        "            nn.Linear(dim, hidden_dim),\n",
        "            nn.GELU(),\n",
        "            nn.Dropout(dropout),\n",
        "            nn.Linear(hidden_dim, dim),\n",
        "            nn.Dropout(dropout)\n",
        "        )\n",
        "\n",
        "    def forward(self, x):\n",
        "        return self.net(x)\n",
        "\n",
        "class TransformerBlock(nn.Module):\n",
        "    def __init__(self, dim, heads, mlp_dim, dropout=0.1):\n",
        "        super().__init__()\n",
        "        self.norm1 = nn.LayerNorm(dim)\n",
        "        self.attn = MultiHeadAttention(dim, heads, dropout)\n",
        "        self.norm2 = nn.LayerNorm(dim)\n",
        "        self.mlp = MLP(dim, mlp_dim, dropout)\n",
        "\n",
        "    def forward(self, x):\n",
        "        x = x + self.attn(self.norm1(x))\n",
        "        x = x + self.mlp(self.norm2(x))\n",
        "        return x\n",
        "\n",
        "class VisionTransformer(nn.Module):\n",
        "    def __init__(self, config):\n",
        "        super().__init__()\n",
        "        self.patch_embed = PatchEmbedding(\n",
        "            config['image_size'], config['patch_size'],\n",
        "            config['channels'], config['dim']\n",
        "        )\n",
        "\n",
        "        self.blocks = nn.ModuleList([\n",
        "            TransformerBlock(config['dim'], config['heads'], config['mlp_dim'], config['dropout'])\n",
        "            for _ in range(config['depth'])\n",
        "        ])\n",
        "\n",
        "        self.norm = nn.LayerNorm(config['dim'])\n",
        "        self.head = nn.Linear(config['dim'], config['num_classes'])\n",
        "\n",
        "        self.apply(self._init_weights)\n",
        "\n",
        "    def _init_weights(self, module):\n",
        "        if isinstance(module, nn.Linear):\n",
        "            torch.nn.init.xavier_uniform_(module.weight)\n",
        "            if module.bias is not None:\n",
        "                torch.nn.init.zeros_(module.bias)\n",
        "        elif isinstance(module, nn.LayerNorm):\n",
        "            torch.nn.init.zeros_(module.bias)\n",
        "            torch.nn.init.ones_(module.weight)\n",
        "\n",
        "    def forward(self, x):\n",
        "        x = self.patch_embed(x)\n",
        "        for block in self.blocks:\n",
        "            x = block(x)\n",
        "        x = self.norm(x)\n",
        "        return self.head(x[:, 0])\n",
        "\n",
        "def get_cosine_schedule_with_warmup(optimizer, num_warmup_steps, num_training_steps):\n",
        "    def lr_lambda(current_step):\n",
        "        if current_step < num_warmup_steps:\n",
        "            return float(current_step) / float(max(1, num_warmup_steps))\n",
        "        progress = float(current_step - num_warmup_steps) / float(max(1, num_training_steps - num_warmup_steps))\n",
        "        return max(0.0, 0.5 * (1.0 + np.cos(np.pi * progress)))\n",
        "\n",
        "    return torch.optim.lr_scheduler.LambdaLR(optimizer, lr_lambda)\n",
        "\n",
        "def train_epoch(model, loader, optimizer, scheduler, device, epoch, total_epochs):\n",
        "    model.train()\n",
        "    total_loss = 0.0\n",
        "    correct = 0\n",
        "    total = 0\n",
        "\n",
        "    pbar = tqdm(loader, desc=f'Epoch {epoch+1}/{total_epochs}', leave=False)\n",
        "    for batch_idx, (data, target) in enumerate(pbar):\n",
        "        data, target = data.to(device, non_blocking=True), target.to(device, non_blocking=True)\n",
        "\n",
        "        optimizer.zero_grad()\n",
        "        output = model(data)\n",
        "        loss = F.cross_entropy(output, target, label_smoothing=0.1)\n",
        "        loss.backward()\n",
        "\n",
        "        torch.nn.utils.clip_grad_norm_(model.parameters(), 1.0)\n",
        "        optimizer.step()\n",
        "        scheduler.step()\n",
        "\n",
        "        total_loss += loss.item()\n",
        "        _, predicted = output.max(1)\n",
        "        total += target.size(0)\n",
        "        correct += predicted.eq(target).sum().item()\n",
        "\n",
        "        if batch_idx % 50 == 0:\n",
        "            current_acc = 100.0 * correct / total\n",
        "            pbar.set_postfix({\n",
        "                'Loss': f'{loss.item():.4f}',\n",
        "                'Acc': f'{current_acc:.2f}%',\n",
        "                'LR': f'{scheduler.get_last_lr()[0]:.2e}'\n",
        "            })\n",
        "\n",
        "    avg_loss = total_loss / len(loader)\n",
        "    accuracy = 100.0 * correct / total\n",
        "    return avg_loss, accuracy\n",
        "\n",
        "def test_epoch(model, loader, device):\n",
        "    model.eval()\n",
        "    correct = 0\n",
        "    total = 0\n",
        "\n",
        "    with torch.no_grad():\n",
        "        pbar = tqdm(loader, desc='Testing', leave=False)\n",
        "        for data, target in pbar:\n",
        "            data, target = data.to(device), target.to(device)\n",
        "            output = model(data)\n",
        "            _, predicted = output.max(1)\n",
        "            total += target.size(0)\n",
        "            correct += predicted.eq(target).sum().item()\n",
        "\n",
        "            current_acc = 100.0 * correct / total\n",
        "            pbar.set_postfix({'Acc': f'{current_acc:.2f}%'})\n",
        "\n",
        "    accuracy = 100.0 * correct / total\n",
        "    return accuracy\n",
        "\n",
        "def safe_load_model(filepath, device):\n",
        "    try:\n",
        "        checkpoint = torch.load(filepath, map_location=device, weights_only=True)\n",
        "        return checkpoint\n",
        "    except:\n",
        "        try:\n",
        "            print(\"Using weights_only=False for model loading\")\n",
        "            checkpoint = torch.load(filepath, map_location=device, weights_only=False)\n",
        "            return checkpoint\n",
        "        except Exception as e:\n",
        "            print(f\"Failed to load model: {e}\")\n",
        "            raise\n",
        "\n",
        "def main():\n",
        "    print(\"Vision Transformer on CIFAR-10\")\n",
        "    print(\"=\" * 50)\n",
        "\n",
        "    device = setup_gpu()\n",
        "\n",
        "    config = {\n",
        "        'image_size': 32,\n",
        "        'patch_size': 4,\n",
        "        'num_classes': 10,\n",
        "        'dim': 256,\n",
        "        'depth': 6,\n",
        "        'heads': 8,\n",
        "        'mlp_dim': 512,\n",
        "        'channels': 3,\n",
        "        'dropout': 0.1,\n",
        "        'emb_dropout': 0.1,\n",
        "        'batch_size': 128,\n",
        "        'epochs': 100,\n",
        "        'lr': 3e-4,\n",
        "        'weight_decay': 0.03,\n",
        "        'warmup_epochs': 10\n",
        "    }\n",
        "\n",
        "    print(\"Configuration:\")\n",
        "    for k, v in config.items():\n",
        "        print(f\"  {k}: {v}\")\n",
        "\n",
        "    train_transform = transforms.Compose([\n",
        "        transforms.RandomCrop(32, padding=4),\n",
        "        transforms.RandomHorizontalFlip(p=0.5),\n",
        "        transforms.RandomRotation(10),\n",
        "        transforms.ColorJitter(brightness=0.2, contrast=0.2, saturation=0.2, hue=0.1),\n",
        "        transforms.ToTensor(),\n",
        "        transforms.Normalize((0.4914, 0.4822, 0.4465), (0.2470, 0.2435, 0.2616))\n",
        "    ])\n",
        "\n",
        "    test_transform = transforms.Compose([\n",
        "        transforms.ToTensor(),\n",
        "        transforms.Normalize((0.4914, 0.4822, 0.4465), (0.2470, 0.2435, 0.2616))\n",
        "    ])\n",
        "\n",
        "    print(\"Loading CIFAR-10 dataset...\")\n",
        "    train_dataset = torchvision.datasets.CIFAR10(\n",
        "        root='./data', train=True, download=True, transform=train_transform\n",
        "    )\n",
        "    test_dataset = torchvision.datasets.CIFAR10(\n",
        "        root='./data', train=False, download=True, transform=test_transform\n",
        "    )\n",
        "\n",
        "    train_loader = DataLoader(\n",
        "        train_dataset, batch_size=config['batch_size'], shuffle=True,\n",
        "        num_workers=2, pin_memory=True, drop_last=True\n",
        "    )\n",
        "    test_loader = DataLoader(\n",
        "        test_dataset, batch_size=config['batch_size'], shuffle=False,\n",
        "        num_workers=2, pin_memory=True\n",
        "    )\n",
        "\n",
        "    print(f\"Training samples: {len(train_dataset)}\")\n",
        "    print(f\"Test samples: {len(test_dataset)}\")\n",
        "\n",
        "    print(\"Initializing Vision Transformer...\")\n",
        "    model = VisionTransformer(config).to(device)\n",
        "\n",
        "    total_params = sum(p.numel() for p in model.parameters())\n",
        "    print(f\"Model parameters: {total_params:,}\")\n",
        "\n",
        "    optimizer = optim.AdamW(model.parameters(), lr=config['lr'], weight_decay=config['weight_decay'])\n",
        "\n",
        "    total_steps = len(train_loader) * config['epochs']\n",
        "    warmup_steps = len(train_loader) * config['warmup_epochs']\n",
        "    scheduler = get_cosine_schedule_with_warmup(optimizer, warmup_steps, total_steps)\n",
        "\n",
        "    train_losses = []\n",
        "    train_accs = []\n",
        "    test_accs = []\n",
        "    best_acc = 0\n",
        "\n",
        "    print(\"Starting training...\")\n",
        "    for epoch in range(config['epochs']):\n",
        "        start_time = time.time()\n",
        "\n",
        "        train_loss, train_acc = train_epoch(model, train_loader, optimizer, scheduler, device, epoch, config['epochs'])\n",
        "        test_acc = test_epoch(model, test_loader, device)\n",
        "\n",
        "        train_losses.append(train_loss)\n",
        "        train_accs.append(train_acc)\n",
        "        test_accs.append(test_acc)\n",
        "\n",
        "        epoch_time = time.time() - start_time\n",
        "\n",
        "        print(f'Epoch {epoch+1:03d}: Loss: {train_loss:.4f} | Train Acc: {train_acc:.2f}% | Test Acc: {test_acc:.2f}% | Time: {epoch_time:.2f}s')\n",
        "\n",
        "        if test_acc > best_acc:\n",
        "            best_acc = test_acc\n",
        "            torch.save({\n",
        "                'model_state_dict': model.state_dict(),\n",
        "                'config': config,\n",
        "                'test_accuracy': test_acc,\n",
        "                'epoch': epoch\n",
        "            }, 'best_vit_model.pth')\n",
        "            print(f'New best model saved! Test Acc: {best_acc:.2f}%')\n",
        "\n",
        "    print(f\"Best Test Accuracy: {best_acc:.2f}%\")\n",
        "\n",
        "    try:\n",
        "        checkpoint = safe_load_model('best_vit_model.pth', device)\n",
        "        model.load_state_dict(checkpoint['model_state_dict'])\n",
        "        final_test_acc = test_epoch(model, test_loader, device)\n",
        "        print(f\"Final Test Accuracy: {final_test_acc:.2f}%\")\n",
        "    except Exception as e:\n",
        "        print(f\"Error loading best model: {e}\")\n",
        "        final_test_acc = test_epoch(model, test_loader, device)\n",
        "        print(f\"Final Test Accuracy: {final_test_acc:.2f}%\")\n",
        "\n",
        "    torch.save({\n",
        "        'model_state_dict': model.state_dict(),\n",
        "        'config': config,\n",
        "        'test_accuracy': final_test_acc\n",
        "    }, 'final_vit_model.pth')\n",
        "\n",
        "    plt.figure(figsize=(15, 5))\n",
        "    plt.subplot(1, 3, 1)\n",
        "    plt.plot(train_losses)\n",
        "    plt.title('Training Loss')\n",
        "    plt.xlabel('Epoch')\n",
        "    plt.ylabel('Loss')\n",
        "    plt.grid(True)\n",
        "\n",
        "    plt.subplot(1, 3, 2)\n",
        "    plt.plot(train_accs, label='Train Acc')\n",
        "    plt.plot(test_accs, label='Test Acc')\n",
        "    plt.title('Accuracy')\n",
        "    plt.xlabel('Epoch')\n",
        "    plt.ylabel('Accuracy (%)')\n",
        "    plt.legend()\n",
        "    plt.grid(True)\n",
        "\n",
        "    plt.subplot(1, 3, 3)\n",
        "    categories = ['Best Model', 'Final Model']\n",
        "    accuracies = [best_acc, final_test_acc]\n",
        "    plt.bar(categories, accuracies, color=['blue', 'green'])\n",
        "    plt.title('Model Performance')\n",
        "    plt.ylabel('Accuracy (%)')\n",
        "    for i, v in enumerate(accuracies):\n",
        "        plt.text(i, v + 0.5, f'{v:.2f}%', ha='center', va='bottom')\n",
        "\n",
        "    plt.tight_layout()\n",
        "    plt.savefig('training_results.png', dpi=300, bbox_inches='tight')\n",
        "    plt.show()\n",
        "\n",
        "    print(\"Training completed successfully!\")\n",
        "    print(f\"Best Accuracy: {best_acc:.2f}%\")\n",
        "    print(f\"Final Accuracy: {final_test_acc:.2f}%\")\n",
        "    print(f\"Model Size: {total_params:,} parameters\")\n",
        "\n",
        "    torch.cuda.empty_cache()\n",
        "\n",
        "if __name__ == \"__main__\":\n",
        "    main()"
      ]
    }
  ]
}